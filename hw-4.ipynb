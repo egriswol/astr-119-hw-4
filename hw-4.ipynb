{
 "cells": [
  {
   "cell_type": "code",
   "execution_count": 1,
   "metadata": {
    "collapsed": true
   },
   "outputs": [],
   "source": [
    "%matplotlib inline\n",
    "import numpy as np\n",
    "import matplotlib.pyplot as plt"
   ]
  },
  {
   "cell_type": "code",
   "execution_count": 2,
   "metadata": {
    "collapsed": true
   },
   "outputs": [],
   "source": [
    "def func(x):\n",
    "    return np.exp(-2*x) * np.cos(10*x)"
   ]
  },
  {
   "cell_type": "code",
   "execution_count": 3,
   "metadata": {
    "collapsed": true
   },
   "outputs": [],
   "source": [
    "def trapezoid_core(f, x, h):\n",
    "    return 0.5 * h * (f(x + h) + f(x))"
   ]
  },
  {
   "cell_type": "code",
   "execution_count": 4,
   "metadata": {
    "collapsed": true
   },
   "outputs": [],
   "source": [
    "def trapezoid_method(f,a,b,N):\n",
    "    #f = function\n",
    "    #a = lower limit\n",
    "    #b = upper limit\n",
    "    #N = Number of intervals\n",
    "    \n",
    "    #create x values on which to perform trapezoidal integration\n",
    "    x = np.linspace(0, np.pi ,N)\n",
    "    h = x[1]-x[0]            #define h values\n",
    "    \n",
    "    #define value of the integral\n",
    "    Fint = 0.0\n",
    "  \n",
    "    \n",
    "    #perform the integral \n",
    "    for i in range (0,len(x)-1,1):\n",
    "        Fint += trapezoid_core(f,x[i],h)\n",
    "        i += 1   \n",
    "           \n",
    "    #return the answer\n",
    "    return Fint"
   ]
  },
  {
   "cell_type": "code",
   "execution_count": 5,
   "metadata": {
    "collapsed": true
   },
   "outputs": [],
   "source": [
    "def simpson_core(f,x,h):\n",
    "    return h*( f(x) + 4*f(x+h) + f(x+2*h))/3"
   ]
  },
  {
   "cell_type": "code",
   "execution_count": 6,
   "metadata": {
    "collapsed": true
   },
   "outputs": [],
   "source": [
    "def simpsons_method(f,a,b,N):\n",
    "    #f = function\n",
    "    #a = lower limit\n",
    "    #b = upper limit\n",
    "    #N = Number of intervals\n",
    "    \n",
    "    #define x values to perform over\n",
    "    x = np.linspace(0,np.pi,N)\n",
    "    h = x[1]-x[0]\n",
    "    \n",
    "    #set initial integral value\n",
    "    Fint = 0.0\n",
    "    \n",
    "    #perform integral using simpson's\n",
    "    for i in range(0,len(x)-2,2):\n",
    "        Fint += simpson_core(f,x[i],h)\n",
    "    \n",
    "    #apply simpson's rule over the last interval if N is even\n",
    "    if((N%2)==0):\n",
    "        Fint += simpson_core(f,x[-2],0.5*h)\n",
    "        \n",
    "    return Fint"
   ]
  },
  {
   "cell_type": "code",
   "execution_count": 7,
   "metadata": {
    "collapsed": true
   },
   "outputs": [],
   "source": [
    "def romberg_core(f,a,b,i):\n",
    "    \n",
    "    #we need the difference b-a\n",
    "    h = b-a\n",
    "    \n",
    "    # and the increment between new func evals\n",
    "    dh = h/2.**(i)\n",
    "    \n",
    "    # We need the cofactor\n",
    "    K = h/2.**(i+1)\n",
    "    \n",
    "    # and the function evaluations\n",
    "    M = 0.0\n",
    "    for j in range(2**i):\n",
    "        M += f(a + 0.5*dh +j*dh)\n",
    "        \n",
    "    #return the answer\n",
    "    return K*M\n"
   ]
  },
  {
   "cell_type": "code",
   "execution_count": 8,
   "metadata": {
    "collapsed": true
   },
   "outputs": [],
   "source": [
    "def romberg_integration(f,a,b,tol):\n",
    "    \n",
    "    i = 0 \n",
    "    \n",
    "    imax = 100000\n",
    "    \n",
    "    delta = 100.0*np.fabs(tol)\n",
    "    \n",
    "    I = np.zeros(imax,dtype=float)\n",
    "    \n",
    "    I[0] = 0.5*(b-a)*(f(a) + f(b))\n",
    "    \n",
    "    i += 1\n",
    "    \n",
    "    while(delta>tol):\n",
    "        \n",
    "        #find this romberg iteration \n",
    "        I[i] = 0.5*I[i-1] + romberg_core(f,a,b,i)\n",
    "        \n",
    "        #compute the new fractional error estimate \n",
    "        delta = np.fabs( (I[i]-I[i-1])/I[i] )\n",
    "        \n",
    "        print(i,I[i],I[i-1],delta)\n",
    "        \n",
    "        if(delta>tol):\n",
    "            \n",
    "            i+=1\n",
    "            \n",
    "            if(i>imax):\n",
    "                print(\"Max iterations reached\")\n",
    "                raise StopIteration( 'Stopping iterations after ', i)\n",
    "                \n",
    "    return I[i]"
   ]
  },
  {
   "cell_type": "code",
   "execution_count": 9,
   "metadata": {
    "collapsed": true
   },
   "outputs": [],
   "source": [
    "def func_integral(x):\n",
    "    return -1/52 * np.exp(-2*x) * (np.cos(10*x) - 5*np.sin(10*x))"
   ]
  },
  {
   "cell_type": "code",
   "execution_count": null,
   "metadata": {},
   "outputs": [],
   "source": [
    "Answer =  func_integral(np.pi)-func_integral(0)\n",
    "print(Answer)\n",
    "print(\"Trapezoid\")\n",
    "print(trapezoid_method(func,0,np.pi,1300))\n",
    "print(\"Simpson's Method\")\n",
    "print(simpsons_method(func,0,np.pi,150))\n",
    "print(\"Romberg Method\")\n",
    "tolerance = 1.0e-6\n",
    "RI = romberg_integration(func,0,np.pi,tolerance)\n",
    "print(RI,(RI-Answer)/Answer,tolerance)\n",
    "#romberg takes 26 iterations\n",
    "#1300 and 150 intervals reach the specified accuracy for trapezoid and simpsons, respectively"
   ]
  },
  {
   "cell_type": "code",
   "execution_count": null,
   "metadata": {
    "collapsed": true
   },
   "outputs": [],
   "source": []
  }
 ],
 "metadata": {
  "kernelspec": {
   "display_name": "Python 3",
   "language": "python",
   "name": "python3"
  },
  "language_info": {
   "codemirror_mode": {
    "name": "ipython",
    "version": 3
   },
   "file_extension": ".py",
   "mimetype": "text/x-python",
   "name": "python",
   "nbconvert_exporter": "python",
   "pygments_lexer": "ipython3",
   "version": "3.6.3"
  }
 },
 "nbformat": 4,
 "nbformat_minor": 2
}
